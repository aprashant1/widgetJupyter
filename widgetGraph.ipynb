{
 "cells": [
  {
   "cell_type": "code",
   "execution_count": 8,
   "metadata": {},
   "outputs": [
    {
     "data": {
      "application/vnd.jupyter.widget-view+json": {
       "model_id": "ab2632d5efa24f9f9e3c9a691fac7369",
       "version_major": 2,
       "version_minor": 0
      },
      "text/plain": [
       "interactive(children=(Dropdown(description='number', options={'SQLMonitor': 'SQLMonitor', 'SchemaDetails': 'Sc…"
      ]
     },
     "metadata": {},
     "output_type": "display_data"
    }
   ],
   "source": [
    "%matplotlib inline\n",
    "import pandas as pd\n",
    "import numpy as np\n",
    "import matplotlib.pyplot as plt\n",
    "import requests\n",
    "from ipywidgets import interact\n",
    "\n",
    "def getAPI( number):\n",
    "    if number is 'SQLMonitor':\n",
    "        data = pd.read_csv(r\"C:\\Users\\aprashant\\Desktop\\mock.csv\")\n",
    "        pd.DataFrame(data)\n",
    "        pd.DataFrame(data).plot()\n",
    "        modifiedData = pd.DataFrame(data).dropna(0)\n",
    "        pd.DataFrame(modifiedData).plot(x = 'Avg Delay', y ='Avg CPU', kind ='scatter')\n",
    "    else:\n",
    "        responseSchema = requests.post('http://localhost:9876/ws/model/graphql',data='query { Db2Schema(fqssid:\"QA1X\") { id name dbCount tableCount ParentOf { id label } }}',headers={'Content-Type': 'text/plain'})\n",
    "        dataframeResponse1 = responseSchema.json()\n",
    "        pd.DataFrame(dataframeResponse1['data']['Db2Schema'])\n",
    "        display(pd.DataFrame(dataframeResponse1['data']['Db2Schema']))\n",
    "\n",
    "\n",
    "interact(getAPI, number={'SQLMonitor': 'SQLMonitor', 'SchemaDetails': 'SchemaDetails'});"
   ]
  },
  {
   "cell_type": "code",
   "execution_count": null,
   "metadata": {},
   "outputs": [],
   "source": []
  }
 ],
 "metadata": {
  "kernelspec": {
   "display_name": "Python 3",
   "language": "python",
   "name": "python3"
  },
  "language_info": {
   "codemirror_mode": {
    "name": "ipython",
    "version": 3
   },
   "file_extension": ".py",
   "mimetype": "text/x-python",
   "name": "python",
   "nbconvert_exporter": "python",
   "pygments_lexer": "ipython3",
   "version": "3.7.0"
  }
 },
 "nbformat": 4,
 "nbformat_minor": 2
}
